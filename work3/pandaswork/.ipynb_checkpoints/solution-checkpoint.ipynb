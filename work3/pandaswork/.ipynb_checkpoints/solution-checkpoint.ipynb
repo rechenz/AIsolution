{
 "cells": [
  {
   "cell_type": "code",
   "execution_count": null,
   "id": "29ee3918-42af-4840-aebc-9351fe206799",
   "metadata": {},
   "outputs": [],
   "source": [
    "“通知人”都有谁？ 统计所有出现过的“通知人”，并计算他们各自发布的通知数量占总数的比例。\n",
    "附件下载次数与通知人的关系？ 分析附件的下载次数与通知人是否存在某种联系。比如，是不是某些特定部门发布的通知，附件下载量总是特别高？\n",
    "通知发布的高峰期？ 统计每天发布的通知数量，分析一下，通常在学期的哪个时间段，通知会变得特别密集？\n",
    "自由探索！ 根据你对数据的好奇心，自行思考一个你感兴趣的问题，并进行数据分析。（例如：通知的标题长度和阅读量/下载量有关吗？标题中出现哪些关键词会更受关注？）\n",
    "让图表说话！ 尝试使用 matplotlib 或其他可视化工具，将你在问题 3 和 4 中的分析结果以图表的形式呈现出来。"
   ]
  },
  {
   "cell_type": "code",
   "execution_count": null,
   "id": "2e2ead47-1770-4225-9f38-31409753463e",
   "metadata": {},
   "outputs": [],
   "source": [
    "1."
   ]
  },
  {
   "cell_type": "code",
   "execution_count": 15,
   "id": "b2e1c39b-aa3c-4ebc-85c8-859d882e560e",
   "metadata": {},
   "outputs": [
    {
     "name": "stdout",
     "output_type": "stream",
     "text": [
      "      教学通知    质量办    教学运行     综合科     实践科    计划科    教研教改  教材中心   电教中心\n",
      "百分比  1.48%  8.69%  40.26%  10.08%  22.69%  5.04%  10.93%  0.8%  0.02%\n"
     ]
    }
   ],
   "source": [
    "import pandas as pd\n",
    "\n",
    "# datasource = pd.read_csv(\n",
    "#     'AIsolution/work3/pandaswork/fzu.csv', header=0, encoding='utf-8')\n",
    "datasource = pd.read_csv(\n",
    "    'fzu.csv', header=0, encoding='utf-8')\n",
    "datasource.dropna(axis=0,  thresh=1, inplace=True)\n",
    "dic = {}\n",
    "for index, row in datasource.iterrows():\n",
    "    if row['通知人'] in dic:\n",
    "        dic[row['通知人']] += 1\n",
    "    else:\n",
    "        dic[row['通知人']] = 1\n",
    "# print(datasource.shape[0])\n",
    "for key in dic.keys():\n",
    "    dic[key] = dic[key]/datasource.shape[0]*100\n",
    "    dic[key] = round(dic[key], 2)\n",
    "    dic[key] = str(dic[key])+'%'\n",
    "# print(dic)\n",
    "ans = pd.DataFrame(dic, index=['百分比'])\n",
    "pd.set_option('display.max_rows', None)\n",
    "pd.set_option('display.max_columns', None)\n",
    "print(ans)\n",
    "# result = datasource['通知人'].value_counts()\n",
    "# print(result)\n"
   ]
  },
  {
   "cell_type": "code",
   "execution_count": null,
   "id": "b5ab8dd4-d3e0-44d8-8aa1-ed6bf1489e94",
   "metadata": {},
   "outputs": [],
   "source": [
    "这样我们便得出了各种类型的通知人以及他们发布的通知数量所占比例"
   ]
  }
 ],
 "metadata": {
  "kernelspec": {
   "display_name": "Python 3 (ipykernel)",
   "language": "python",
   "name": "python3"
  },
  "language_info": {
   "codemirror_mode": {
    "name": "ipython",
    "version": 3
   },
   "file_extension": ".py",
   "mimetype": "text/x-python",
   "name": "python",
   "nbconvert_exporter": "python",
   "pygments_lexer": "ipython3",
   "version": "3.14.0"
  }
 },
 "nbformat": 4,
 "nbformat_minor": 5
}
