{
 "cells": [
  {
   "cell_type": "code",
   "execution_count": null,
   "id": "29ee3918-42af-4840-aebc-9351fe206799",
   "metadata": {},
   "outputs": [],
   "source": []
  }
 ],
 "metadata": {
  "kernelspec": {
   "display_name": "",
   "name": ""
  },
  "language_info": {
   "name": ""
  }
 },
 "nbformat": 4,
 "nbformat_minor": 5
}
