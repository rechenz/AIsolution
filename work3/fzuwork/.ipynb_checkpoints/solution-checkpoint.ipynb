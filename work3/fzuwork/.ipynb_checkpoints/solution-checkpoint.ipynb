{
 "cells": [
  {
   "cell_type": "code",
   "execution_count": null,
   "id": "29ee3918-42af-4840-aebc-9351fe206799",
   "metadata": {},
   "outputs": [],
   "source": [
    "1.“通知人”都有谁？ 统计所有出现过的“通知人”，并计算他们各自发布的通知数量占总数的比例。\n",
    "2.附件下载次数与通知人的关系？ 分析附件的下载次数与通知人是否存在某种联系。比如，是不是某些特定部门发布的通知，附件下载量总是特别高？\n",
    "3.通知发布的高峰期？ 统计每天发布的通知数量，分析一下，通常在学期的哪个时间段，通知会变得特别密集？\n",
    "4.自由探索！ 根据你对数据的好奇心，自行思考一个你感兴趣的问题，并进行数据分析。（例如：通知的标题长度和阅读量/下载量有关吗？标题中出现哪些关键词会更受关注？）\n",
    "5.让图表说话！ 尝试使用 matplotlib 或其他可视化工具，将你在问题 3 和 4 中的分析结果以图表的形式呈现出来。"
   ]
  },
  {
   "cell_type": "code",
   "execution_count": null,
   "id": "2e2ead47-1770-4225-9f38-31409753463e",
   "metadata": {},
   "outputs": [],
   "source": [
    "1."
   ]
  },
  {
   "cell_type": "code",
   "execution_count": 15,
   "id": "b2e1c39b-aa3c-4ebc-85c8-859d882e560e",
   "metadata": {},
   "outputs": [
    {
     "name": "stdout",
     "output_type": "stream",
     "text": [
      "      教学通知    质量办    教学运行     综合科     实践科    计划科    教研教改  教材中心   电教中心\n",
      "百分比  1.48%  8.69%  40.26%  10.08%  22.69%  5.04%  10.93%  0.8%  0.02%\n"
     ]
    }
   ],
   "source": [
    "import pandas as pd\n",
    "\n",
    "# datasource = pd.read_csv(\n",
    "#     'AIsolution/work3/pandaswork/fzu.csv', header=0, encoding='utf-8')\n",
    "datasource = pd.read_csv(\n",
    "    'fzu.csv', header=0, encoding='utf-8')\n",
    "datasource.dropna(axis=0,  thresh=1, inplace=True)\n",
    "dic = {}\n",
    "for index, row in datasource.iterrows():\n",
    "    if row['通知人'] in dic:\n",
    "        dic[row['通知人']] += 1\n",
    "    else:\n",
    "        dic[row['通知人']] = 1\n",
    "# print(datasource.shape[0])\n",
    "for key in dic.keys():\n",
    "    dic[key] = dic[key]/datasource.shape[0]*100\n",
    "    dic[key] = round(dic[key], 2)\n",
    "    dic[key] = str(dic[key])+'%'\n",
    "# print(dic)\n",
    "ans = pd.DataFrame(dic, index=['百分比'])\n",
    "pd.set_option('display.max_rows', None)\n",
    "pd.set_option('display.max_columns', None)\n",
    "print(ans)\n",
    "# result = datasource['通知人'].value_counts()\n",
    "# print(result)\n"
   ]
  },
  {
   "cell_type": "code",
   "execution_count": null,
   "id": "b5ab8dd4-d3e0-44d8-8aa1-ed6bf1489e94",
   "metadata": {},
   "outputs": [],
   "source": [
    "这样我们便得出了各种类型的通知人以及他们发布的通知数量所占比例"
   ]
  },
  {
   "cell_type": "code",
   "execution_count": null,
   "id": "021d8137-4300-4942-9b0d-db11510da516",
   "metadata": {},
   "outputs": [],
   "source": [
    "2."
   ]
  },
  {
   "cell_type": "code",
   "execution_count": null,
   "id": "fb9f665a-f8d3-4381-a515-2e03d81e16b4",
   "metadata": {},
   "outputs": [],
   "source": [
    "为了应对本次任务的分析下载次数，我在爬取数据的时候对多个附件的通知进行了取最大值的处理，防止多个附件的下载次数累积多于单个附件"
   ]
  },
  {
   "cell_type": "code",
   "execution_count": 2,
   "id": "b5ab10f9-eeca-4442-a05e-4cb3c664fe1a",
   "metadata": {},
   "outputs": [
    {
     "name": "stdout",
     "output_type": "stream",
     "text": [
      "             计划科     实践科    教研教改    教学运行     质量办   教材中心    综合科   教学通知\n",
      "有附件的通知数     24.0   196.0    28.0   152.0    56.0   22.0   15.0   14.0\n",
      "平均附件下载次数  2042.0  2029.0  1883.0  1242.0  1082.0  945.0  904.0  761.0\n"
     ]
    }
   ],
   "source": [
    "import pandas as pd\n",
    "\n",
    "datasource = pd.read_csv(\n",
    "    'fzu.csv', header=0, encoding='utf-8')\n",
    "\n",
    "datasource.dropna(axis=0, thresh=6, inplace=True)\n",
    "dic = {}\n",
    "for index, row in datasource.iterrows():\n",
    "    if row['通知人'] not in dic:\n",
    "        dic[row['通知人']] = [1, row['附件下载次数']]\n",
    "    else:\n",
    "        dic[row['通知人']][0] += 1\n",
    "        dic[row['通知人']][1] += row['附件下载次数']\n",
    "\n",
    "for key in dic.keys():\n",
    "    dic[key][1] /= dic[key][0]\n",
    "    dic[key][1] = round(dic[key][1], 0)\n",
    "ans = pd.DataFrame(dic, index=['有附件的通知数', '平均附件下载次数'])\n",
    "pd.set_option('display.max_rows', None)\n",
    "pd.set_option('display.max_columns', None)\n",
    "ans.sort_values(by='平均附件下载次数', axis=1, ascending=False, inplace=True)\n",
    "print(ans)\n"
   ]
  },
  {
   "cell_type": "code",
   "execution_count": null,
   "id": "c31216e0-dbe8-4bce-97f5-f1911f107a7b",
   "metadata": {},
   "outputs": [],
   "source": [
    "由此可见，计划科虽然发布了很少的附件，但是平均下载量领先，并且实践科附件数以及下载次数均很多。"
   ]
  },
  {
   "cell_type": "code",
   "execution_count": null,
   "id": "090068c2-5aad-473a-a43f-15c357497828",
   "metadata": {},
   "outputs": [],
   "source": [
    "3."
   ]
  },
  {
   "cell_type": "code",
   "execution_count": null,
   "id": "1801b2fb-452b-4b8d-93a1-5baf633bdd20",
   "metadata": {},
   "outputs": [],
   "source": [
    "首先我不是福建本地人，所以我并不清楚这边的学校时间表，所以我只能浅略估计，我规定（3 9）月份为开学初，\n",
    "（5 6 10 11 12）月份为学期中，（1 7）月份为学期末，（2 8）月份为假期，并由此进行分析。"
   ]
  },
  {
   "cell_type": "code",
   "execution_count": 6,
   "id": "810ea4dc-80a3-49fa-8174-8b638099b60b",
   "metadata": {},
   "outputs": [
    {
     "name": "stdout",
     "output_type": "stream",
     "text": [
      "开学初：917，学期中：1538，学期末：853，假期：361\n",
      "开学初：458.5，学期中：384.5，学期末：284.3333333333333，假期：180.5\n"
     ]
    }
   ],
   "source": [
    "import pandas as pd\n",
    "import re\n",
    "\n",
    "datasource = pd.read_csv(\n",
    "    'fzu.csv', header=0, encoding='utf-8')\n",
    "datesoc = datasource['日期']\n",
    "datesoc = datesoc.value_counts()\n",
    "# print(datesoc)\n",
    "# 9 10 11 12 1\n",
    "# 3 4 5 6 7\n",
    "# 9 3 开学初\n",
    "# 10 11 5 6 学期中\n",
    "# 12 1 7 学期末\n",
    "# 2 8假期\n",
    "dic1 = {'09': 0, '03': 0}  # 开学初\n",
    "dic2 = {'10': 0, '11': 0, '05': 0, '06': 0}  # 学期中\n",
    "dic3 = {'12': 0, '01': 0, '07': 0}  # 学期末\n",
    "dic4 = {'02': 0, '08': 0}  # 假期\n",
    "for index, value in datesoc.items():\n",
    "    index = str(index)\n",
    "    month = re.search(f'-(.*?)-', index)\n",
    "    if month:\n",
    "        month = month.group(1)\n",
    "        if month in dic1:\n",
    "            dic1[month] += value\n",
    "        elif month in dic2:\n",
    "            dic2[month] += value\n",
    "        elif month in dic3:\n",
    "            dic3[month] += value\n",
    "        elif month in dic4:\n",
    "            dic4[month] += value\n",
    "a1 = 0  # 开学初\n",
    "a2 = 0  # 学期中\n",
    "a3 = 0  # 学期末\n",
    "a4 = 0  # 假期\n",
    "for key in dic1.keys():\n",
    "    a1 += dic1[key]\n",
    "for key in dic2.keys():\n",
    "    a2 += dic2[key]\n",
    "for key in dic3.keys():\n",
    "    a3 += dic3[key]\n",
    "for key in dic4.keys():\n",
    "    a4 += dic4[key]\n",
    "print(f'开学初：{a1}，学期中：{a2}，学期末：{a3}，假期：{a4}')\n",
    "print(f'开学初：{a1/2}，学期中：{a2/4}，学期末：{a3/3}，假期：{a4/2}')"
   ]
  },
  {
   "cell_type": "code",
   "execution_count": null,
   "id": "c7261d54-4ef5-4ad7-b292-b4775b79e0da",
   "metadata": {},
   "outputs": [],
   "source": [
    "由数据分析可得，在学期中通知最多，假期时的通知最少，但是如果取平均值，那么可以发现开学时的通知发布频率最大，假期时候仍然是最少的"
   ]
  },
  {
   "cell_type": "code",
   "execution_count": null,
   "id": "6af53173-ef1f-409c-b855-e83aa5aea34a",
   "metadata": {},
   "outputs": [],
   "source": [
    "4."
   ]
  },
  {
   "cell_type": "code",
   "execution_count": null,
   "id": "89fcaaf2-97d9-4bf2-a14f-77d5db61c529",
   "metadata": {},
   "outputs": [],
   "source": [
    "让我们来搞点有意思的东西，简单统计一下有多少条通知以“关于”开头，并计算所占比例。"
   ]
  },
  {
   "cell_type": "code",
   "execution_count": 7,
   "id": "0fb31f07-dd73-4031-85cf-d69a4328e8ef",
   "metadata": {},
   "outputs": [
    {
     "name": "stdout",
     "output_type": "stream",
     "text": [
      "3470\n",
      "84.47\n"
     ]
    }
   ],
   "source": [
    "import pandas as pd\n",
    "import re\n",
    "\n",
    "datasource = pd.read_csv(\n",
    "    'fzu.csv', header=0, encoding='utf-8')\n",
    "\n",
    "name = datasource['标题']\n",
    "ans = 0\n",
    "for index, value in name.items():\n",
    "    if re.match('关于', value):\n",
    "        ans += 1\n",
    "print(ans)\n",
    "print(round(ans/name.shape[0]*100, 2))\n"
   ]
  },
  {
   "cell_type": "code",
   "execution_count": null,
   "id": "499bda5a-9b91-4bc8-ac17-c3f1f90473df",
   "metadata": {},
   "outputs": [],
   "source": [
    "可见以“关于”开头的消息数量占了84.47%，总结出fzu的教务处通告还是太公式化了（"
   ]
  },
  {
   "cell_type": "code",
   "execution_count": null,
   "id": "0e25e187-214d-4ec8-a058-650ce203decb",
   "metadata": {},
   "outputs": [],
   "source": [
    "5."
   ]
  },
  {
   "cell_type": "code",
   "execution_count": null,
   "id": "042d5161-c0d7-4154-a3d6-54a2e5eee439",
   "metadata": {},
   "outputs": [],
   "source": [
    "使任务3可视化。"
   ]
  },
  {
   "cell_type": "code",
   "execution_count": 2,
   "id": "fdb9bf3d-1c70-4044-80a9-75e471a38901",
   "metadata": {},
   "outputs": [
    {
     "data": {
      "image/png": "[encoded data removed]",
      "text/plain": [
       "<Figure size 640x480 with 1 Axes>"
      ]
     },
     "metadata": {},
     "output_type": "display_data"
    }
   ],
   "source": [
    "import pandas as pd\n",
    "import numpy as np\n",
    "import matplotlib.pyplot as plt\n",
    "\n",
    "datasource = pd.read_csv(\n",
    "    'fzu.csv', header=0, encoding='utf-8')\n",
    "datasource['日期'] = datasource['日期'].str[6:11]\n",
    "datesoc = datasource['日期']\n",
    "# print(datesoc)\n",
    "datesoc = datesoc.value_counts()\n",
    "datesoc.sort_index(inplace=True)\n",
    "# print(datesoc)\n",
    "x = np.array(datesoc.index)\n",
    "y = np.array(datesoc)\n",
    "plt.plot(x, y)\n",
    "plt.show()"
   ]
  },
  {
   "cell_type": "code",
   "execution_count": null,
   "id": "00fc990a-fefa-4cc3-a934-f314df324c87",
   "metadata": {},
   "outputs": [],
   "source": [
    "此视图是通过将日期从1月到12月进行排序，但我并没有按照月份汇总，所以数据量实在太多了，导致看起来没有那么直观。并且这个记事本的视图展出貌似无法使用库里的编辑器。"
   ]
  }
 ],
 "metadata": {
  "kernelspec": {
   "display_name": "Python 3 (ipykernel)",
   "language": "python",
   "name": "python3"
  },
  "language_info": {
   "codemirror_mode": {
    "name": "ipython",
    "version": 3
   },
   "file_extension": ".py",
   "mimetype": "text/x-python",
   "name": "python",
   "nbconvert_exporter": "python",
   "pygments_lexer": "ipython3",
   "version": "3.14.0"
  }
 },
 "nbformat": 4,
 "nbformat_minor": 5
}
